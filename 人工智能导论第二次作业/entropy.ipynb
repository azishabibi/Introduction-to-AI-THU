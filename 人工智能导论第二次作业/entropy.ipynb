{
 "cells": [
  {
   "cell_type": "code",
   "execution_count": 2,
   "metadata": {},
   "outputs": [],
   "source": [
    "import math\n",
    "\n",
    "def plogp(p):\n",
    "    if p < 1e-5:\n",
    "        return 0\n",
    "    else:\n",
    "        return round(p * math.log2(p), 3)\n",
    "\n",
    "def H(p1, p2):\n",
    "    if p1 == 0 and p2 == 0:\n",
    "        return 0\n",
    "    total = p1 + p2\n",
    "    entropy = -(plogp(p1 / total) + plogp(p2 / total))\n",
    "    return round(entropy, 3)\n",
    "\n",
    "def avg(items, ps=None):\n",
    "    if ps is None:\n",
    "        return sum(items) / len(items)\n",
    "    return round(sum(item * p for item, p in zip(items, ps)) / sum(ps), 3)"
   ]
  },
  {
   "cell_type": "code",
   "execution_count": 36,
   "metadata": {},
   "outputs": [
    {
     "data": {
      "text/plain": [
       "(0.764, -0.0, 0.918, 0)"
      ]
     },
     "execution_count": 36,
     "metadata": {},
     "output_type": "execute_result"
    }
   ],
   "source": [
    "H(7, 2), H(6, 0), H(2, 1), H(0, 0)"
   ]
  },
  {
   "cell_type": "code",
   "execution_count": 5,
   "metadata": {},
   "outputs": [
    {
     "name": "stdout",
     "output_type": "stream",
     "text": [
      "0.331\n"
     ]
    }
   ],
   "source": [
    "IG = H(7, 2) - avg((H(5, 1), H(2, 0), H(0, 1)), (6, 2, 1))\n",
    "print(\"%.3f\" % IG)"
   ]
  }
 ],
 "metadata": {
  "kernelspec": {
   "display_name": "base",
   "language": "python",
   "name": "python3"
  },
  "language_info": {
   "codemirror_mode": {
    "name": "ipython",
    "version": 3
   },
   "file_extension": ".py",
   "mimetype": "text/x-python",
   "name": "python",
   "nbconvert_exporter": "python",
   "pygments_lexer": "ipython3",
   "version": "3.9.6"
  },
  "orig_nbformat": 4
 },
 "nbformat": 4,
 "nbformat_minor": 2
}
